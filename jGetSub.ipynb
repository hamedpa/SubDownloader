{
 "metadata": {
  "language_info": {
   "codemirror_mode": {
    "name": "ipython",
    "version": 3
   },
   "file_extension": ".py",
   "mimetype": "text/x-python",
   "name": "python",
   "nbconvert_exporter": "python",
   "pygments_lexer": "ipython3",
   "version": "3.8.5-final"
  },
  "orig_nbformat": 2,
  "kernelspec": {
   "name": "Python 3.8.5 64-bit ('base': conda)",
   "display_name": "Python 3.8.5 64-bit ('base': conda)",
   "metadata": {
    "interpreter": {
     "hash": "ffd24a999aa66fec2ae31cc0ac9d818e1c103594a694f4d2a7bf4c792ac23af2"
    }
   }
  }
 },
 "nbformat": 4,
 "nbformat_minor": 2,
 "cells": [
  {
   "source": [
    "# SubDownloader 2020 \n",
    "####  Download all subtitles without any trouble \n",
    "#### input address of movies directory\n",
    "#### output movies with subtitles \n",
    "###### Developed by Hamed pariazar"
   ],
   "cell_type": "markdown",
   "metadata": {}
  },
  {
   "cell_type": "code",
   "execution_count": 1,
   "metadata": {},
   "outputs": [],
   "source": [
    "import imdb \n",
    "from urllib.request import urlopen\n",
    "from bs4 import BeautifulSoup\n",
    "import requests,re\n",
    "from difflib import SequenceMatcher\n",
    "import os\n",
    "from tqdm import tqdm\n",
    "from urllib.request import Request, urlopen\n",
    "import time\n",
    "import json"
   ]
  },
  {
   "source": [
    "### find name of movie from string "
   ],
   "cell_type": "markdown",
   "metadata": {}
  },
  {
   "cell_type": "code",
   "execution_count": null,
   "metadata": {},
   "outputs": [],
   "source": [
    "def getNameMovie(name):\n",
    "    ia = imdb.IMDb() \n",
    "    search = ia.search_movie(name)   \n",
    "    if(not search==[]):\n",
    "        return(search[0]['title'])\n",
    "    else:\n",
    "        return(0)\n"
   ]
  },
  {
   "source": [
    "### add + between words in string"
   ],
   "cell_type": "markdown",
   "metadata": {}
  },
  {
   "cell_type": "code",
   "execution_count": null,
   "metadata": {},
   "outputs": [],
   "source": [
    "def addPlus(string):\n",
    "    if(len(string)>1):\n",
    "        tmp=''\n",
    "        sx = string.split(\" \")\n",
    "        for x in sx:\n",
    "            tmp+=x\n",
    "            tmp+=\"+\"     \n",
    "        return tmp[0:len(tmp)-1]\n",
    "    else:\n",
    "        return string"
   ]
  },
  {
   "source": [
    "### add - between words in string"
   ],
   "cell_type": "markdown",
   "metadata": {}
  },
  {
   "cell_type": "code",
   "execution_count": null,
   "metadata": {},
   "outputs": [],
   "source": [
    "def addDash(string):\n",
    "    if(len(string)>1):\n",
    "        tmp=''\n",
    "        sx = string.split(\" \")\n",
    "        for x in sx:\n",
    "            tmp+=x\n",
    "            tmp+=\"-\"     \n",
    "        return tmp[0:len(tmp)-1]\n",
    "    else:\n",
    "        return string"
   ]
  },
  {
   "source": [
    "### check name exist in word or not\n"
   ],
   "cell_type": "markdown",
   "metadata": {}
  },
  {
   "cell_type": "code",
   "execution_count": null,
   "metadata": {},
   "outputs": [],
   "source": [
    "def checkExistedInString(link,name):\n",
    "    wordSplit = name.split()\n",
    "    checksum = len(wordSplit)\n",
    "    for x in wordSplit:\n",
    "        if(x in link):\n",
    "            checksum -= 1\n",
    "    if(checksum==0):\n",
    "        return True\n",
    "    else:\n",
    "        return False"
   ]
  },
  {
   "source": [
    "### this funciton is correcting name of movie if necessary \n"
   ],
   "cell_type": "markdown",
   "metadata": {}
  },
  {
   "cell_type": "code",
   "execution_count": null,
   "metadata": {},
   "outputs": [],
   "source": [
    "def correctInput(nameOfMovie):\n",
    "    try:\n",
    "        inp = getNameMovie(nameOfMovie[0:15])\n",
    "        if(inp==0):\n",
    "            inp = getNameMovie(nameOfMovie[0:10])\n",
    "    except:\n",
    "        print('err')\n",
    "    #output\n",
    "    return inp"
   ]
  },
  {
   "source": [
    "### get number from this function and make sure that how much two string are similar to each other\n"
   ],
   "cell_type": "markdown",
   "metadata": {}
  },
  {
   "cell_type": "code",
   "execution_count": null,
   "metadata": {},
   "outputs": [],
   "source": [
    "def similar(a, b):\n",
    "    return SequenceMatcher(None, a, b).ratio()"
   ]
  },
  {
   "source": [
    "### remove extra words from string\n"
   ],
   "cell_type": "markdown",
   "metadata": {}
  },
  {
   "cell_type": "code",
   "execution_count": null,
   "metadata": {},
   "outputs": [],
   "source": [
    "def removeExtraString(mainString,word):\n",
    "    index = mainString.find ( word )\n",
    "    return mainString[0:index]"
   ]
  },
  {
   "source": [
    "### make directory\n"
   ],
   "cell_type": "markdown",
   "metadata": {}
  },
  {
   "cell_type": "code",
   "execution_count": null,
   "metadata": {},
   "outputs": [],
   "source": [
    "def createDirectory(pathVideo,nameDirectory):\n",
    "    # define the name of the directory to be created\n",
    "    path = pathVideo+\"\\\\\"+nameDirectory\n",
    "\n",
    "    try:\n",
    "        os.makedirs(path)\n",
    "    except OSError:\n",
    "        print (\"Creation of the directory %s failed\" % path)\n",
    "    else:\n",
    "        print (\"Successfully created the directory %s\" % path)\n"
   ]
  },
  {
   "source": [
    "### download subtitles with this function\n"
   ],
   "cell_type": "markdown",
   "metadata": {}
  },
  {
   "cell_type": "code",
   "execution_count": null,
   "metadata": {},
   "outputs": [],
   "source": [
    "def downloadSub(link,nameFile):\n",
    "    url = link\n",
    "    response = requests.get(url, stream=True)\n",
    "\n",
    "    with open(nameFile, \"wb\") as handle:\n",
    "        for data in tqdm(response.iter_content()):\n",
    "            handle.write(data)\n"
   ]
  },
  {
   "source": [
    "### extract subtitles links from servers and websites\n"
   ],
   "cell_type": "markdown",
   "metadata": {}
  },
  {
   "cell_type": "code",
   "execution_count": null,
   "metadata": {},
   "outputs": [],
   "source": [
    "def getSubLink(nameMovie,searchLink,keyword,afterLink):\n",
    "    parser = 'html.parser'  # or 'lxml' (preferred) or 'html5lib', if installed\n",
    "    mkvlist = []\n",
    "    \n",
    "    if(not \"0\" in afterLink):\n",
    "        site= searchLink+addPlus(nameMovie)+afterLink\n",
    "    else:\n",
    "        site= searchLink+addPlus(nameMovie)\n",
    "\n",
    "    #print(site)\n",
    "    hdr = {'User-Agent': 'Mozilla/5.0'}\n",
    "    req = Request(site,headers=hdr)\n",
    "    page = urlopen(req)\n",
    "    x = nameMovie\n",
    "    x = x.split(\" \")\n",
    "    redkeyword1 = x[0].lower()\n",
    "    if(redkeyword1 in \"the\"):\n",
    "        redkeyword1 = x[1].lower()\n",
    "    \n",
    "        \n",
    "    soup = BeautifulSoup(page, parser, from_encoding=page.info().get_param('charset'))\n",
    "    for link in soup.find_all('a', href=True):\n",
    "        #time.sleep(1)\n",
    "        \n",
    "        li = link['href'][(len(link['href'])-len(nameMovie))-10:]\n",
    "    \n",
    "        if((similar(nameMovie,li[(len(li)-len(nameMovie))-10:])*100)>40):\n",
    "            if (keyword in link['href'] ):\n",
    "                        try:\n",
    "                            site = link['href']\n",
    "                            req = Request(site,headers=hdr)\n",
    "                            page = urlopen(req)\n",
    "                            soup2 = BeautifulSoup(page, parser, from_encoding=page.info().get_param('charset'))\n",
    "                            for link2 in soup2.find_all('a', href=True):\n",
    "                                if(\"zip\" in link2['href'] or \"rar\" in link2['href']):\n",
    "                                    mkvlist.append(link2['href'])\n",
    "                                    #print(link2['href'])\n",
    "                        except:\n",
    "                                print('error')\n",
    "        else:\n",
    "            if(len(x)>3):\n",
    "                if(checkExistedInString(link['href'],nameMovie)):\n",
    "                    if (keyword in link['href']):\n",
    "                        try:\n",
    "                            site = link['href']\n",
    "                            req = Request(site,headers=hdr)\n",
    "                            page = urlopen(req)\n",
    "                            soup2 = BeautifulSoup(page, parser, from_encoding=page.info().get_param('charset'))\n",
    "                            for link2 in soup2.find_all('a', href=True):\n",
    "                                if(\"zip\" in link2['href'] or \"rar\" in link2['href'] and redkeyword1 in link['href']):\n",
    "                                    mkvlist.append(link2['href'])\n",
    "                                    #print(link2['href'])\n",
    "                        except:\n",
    "                            print('error')\n",
    "            else:\n",
    "                if(redkeyword1 in link['href']):\n",
    "                    if (keyword in link['href']):\n",
    "                        try:\n",
    "                            site = link['href']\n",
    "                            req = Request(site,headers=hdr)\n",
    "                            page = urlopen(req)\n",
    "                            soup2 = BeautifulSoup(page, parser, from_encoding=page.info().get_param('charset'))\n",
    "                            for link2 in soup2.find_all('a', href=True):\n",
    "                                if(\"zip\" in link2['href'] or \"rar\" in link2['href'] and redkeyword1 in link['href']):\n",
    "                                    mkvlist.append(link2['href'])\n",
    "                                    #print(link2['href'])\n",
    "                        except:\n",
    "                            print('error')\n",
    "        \n",
    "    return mkvlist\n"
   ]
  },
  {
   "source": [
    "## Main part"
   ],
   "cell_type": "markdown",
   "metadata": {}
  },
  {
   "cell_type": "code",
   "execution_count": null,
   "metadata": {},
   "outputs": [],
   "source": [
    "currentLink = []  \n",
    "    afterlink = []    \n",
    "    keyword = []       \n",
    "\n",
    "    print(\"Welecome to subDownloader 2020 - Download all subtitles without any trouble \")\n",
    "    print(\"Please enter address of movies: \")\n",
    "    path = input() #\"M:\\\\myfilm\"\n",
    "    newpath = \"movie\\\\\"\n",
    "    with open('websites.json') as json_file:\n",
    "                data = json.load(json_file)\n",
    "                for p in data['websites']:\n",
    "                    currentLink.append(p['link']) \n",
    "                    afterlink.append(p['afterlink'])\n",
    "                    keyword.append(p['keyword'])\n",
    "\n",
    "\n",
    "    for root, dirs, files in os.walk(path):\n",
    "        for filename in files:\n",
    "            #print(os.path.join(root, filename))\n",
    "            if(\".mkv\" in filename and (newpath not in (os.path.join(root, filename)))):  \n",
    "                correctName = correctInput(filename)\n",
    "                createDirectory(path,newpath+filename)\n",
    "\n",
    "                # Move a file by renaming it's path\n",
    "                os.rename(os.path.join(root, filename),path+\"\\\\\"+newpath+filename+\"\\\\\"+filename)          \n",
    "                for c in range(len(currentLink)):\n",
    "                    \n",
    "                    print(\"Download subtitle of \"+correctName+\" from server \"+str((c+1))+\" ...\")\n",
    "                    if(not getSubLink(correctName,currentLink[c],keyword[c],str(afterlink[c])) ==[]):\n",
    "                        result1 = getSubLink(correctName,currentLink[c],keyword[c],str(afterlink[c]))[0]\n",
    "                        if(\"p\" in result1[len(result1):]):\n",
    "                            downloadSub(result1,path+\"\\\\\"+newpath+filename+'\\\\'+filename+\" \"+str(c)+\".zip\")\n",
    "                        else:\n",
    "                            downloadSub(result1,path+\"\\\\\"+newpath+filename+'\\\\'+filename+\" \"+str(c)+\".rar\")\n",
    "                        print(\"Subtitle of \"+correctName+\" Downloaded successfully\")\n",
    "                \n",
    "                    print()\n",
    "                        \n",
    "                else:\n",
    "                    print()"
   ]
  }
 ]
}